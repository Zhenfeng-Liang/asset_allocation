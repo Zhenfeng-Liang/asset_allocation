{
 "cells": [
  {
   "cell_type": "code",
   "execution_count": 1,
   "metadata": {
    "collapsed": false
   },
   "outputs": [
    {
     "data": {
      "text/html": [
       "<dl class=dl-horizontal>\n",
       "\t<dt>(Intercept)</dt>\n",
       "\t\t<dd>3.30013420534807</dd>\n",
       "\t<dt>x1</dt>\n",
       "\t\t<dd>-19.0423002508235</dd>\n",
       "\t<dt>x2</dt>\n",
       "\t\t<dd>21.3333303190533</dd>\n",
       "</dl>\n"
      ],
      "text/latex": [
       "\\begin{description*}\n",
       "\\item[(Intercept)] 3.30013420534807\n",
       "\\item[x1] -19.0423002508235\n",
       "\\item[x2] 21.3333303190533\n",
       "\\end{description*}\n"
      ],
      "text/markdown": [
       "(Intercept)\n",
       ":   3.30013420534807x1\n",
       ":   -19.0423002508235x2\n",
       ":   21.3333303190533\n",
       "\n"
      ],
      "text/plain": [
       "(Intercept)          x1          x2 \n",
       "   3.300134  -19.042300   21.333330 "
      ]
     },
     "execution_count": 1,
     "metadata": {},
     "output_type": "execute_result"
    }
   ],
   "source": [
    "#1.1\n",
    "set.seed(10)\n",
    "N <- 20;\n",
    "x1 <- rnorm(N);\n",
    "x2 <- rnorm(N, mean = x1, sd = .01);\n",
    "y <- rnorm(N, mean = 3 + x1 + x2)\n",
    "lm(y~x1 + x2)$coef"
   ]
  },
  {
   "cell_type": "markdown",
   "metadata": {},
   "source": [
    "The coefficients are not reasonable. Idealy the coeffients of $x1$ and $x2$ should be around 1."
   ]
  },
  {
   "cell_type": "code",
   "execution_count": 2,
   "metadata": {
    "collapsed": false
   },
   "outputs": [
    {
     "data": {
      "text/html": [
       "<table>\n",
       "<thead><tr><th></th><th scope=col>x1</th><th scope=col>x2</th></tr></thead>\n",
       "<tbody>\n",
       "\t<tr><th scope=row>x1</th><td>12.23053</td><td>12.22581</td></tr>\n",
       "\t<tr><th scope=row>x2</th><td>12.22581</td><td>12.22362</td></tr>\n",
       "</tbody>\n",
       "</table>\n"
      ],
      "text/latex": [
       "\\begin{tabular}{r|ll}\n",
       "  & x1 & x2\\\\\n",
       "\\hline\n",
       "\tx1 & 12.23053 & 12.22581\\\\\n",
       "\tx2 & 12.22581 & 12.22362\\\\\n",
       "\\end{tabular}\n"
      ],
      "text/markdown": [
       "1. 12.2305273371777\n",
       "2. 12.2258110182552\n",
       "3. 12.2258110182552\n",
       "4. 12.2236207474879\n",
       "\n",
       "\n"
      ],
      "text/plain": [
       "         x1       x2\n",
       "x1 12.23053 12.22581\n",
       "x2 12.22581 12.22362"
      ]
     },
     "execution_count": 2,
     "metadata": {},
     "output_type": "execute_result"
    }
   ],
   "source": [
    "x <- cbind(x1, x2)\n",
    "t(x) %*% x"
   ]
  },
  {
   "cell_type": "markdown",
   "metadata": {},
   "source": [
    "We can see that this matrix $X'X$ is nearly not invertible."
   ]
  },
  {
   "cell_type": "code",
   "execution_count": 34,
   "metadata": {
    "collapsed": false
   },
   "outputs": [
    {
     "data": {
      "text/plain": [
       "\n",
       "Call:\n",
       "lm(formula = y ~ x1 + x2)\n",
       "\n",
       "Residuals:\n",
       "    Min      1Q  Median      3Q     Max \n",
       "-1.1494 -0.6055 -0.1677  0.6734  1.5127 \n",
       "\n",
       "Coefficients:\n",
       "            Estimate Std. Error t value Pr(>|t|)    \n",
       "(Intercept)   3.3001     0.2613  12.629 4.59e-10 ***\n",
       "x1          -19.0423    23.1646  -0.822    0.422    \n",
       "x2           21.3333    23.1897   0.920    0.370    \n",
       "---\n",
       "Signif. codes:  0 '***' 0.001 '**' 0.01 '*' 0.05 '.' 0.1 ' ' 1\n",
       "\n",
       "Residual standard error: 0.8586 on 17 degrees of freedom\n",
       "Multiple R-squared:  0.8343,\tAdjusted R-squared:  0.8148 \n",
       "F-statistic: 42.79 on 2 and 17 DF,  p-value: 2.315e-07\n"
      ]
     },
     "execution_count": 34,
     "metadata": {},
     "output_type": "execute_result"
    }
   ],
   "source": [
    "#1.2\n",
    "summary(lm(y~x1 + x2))"
   ]
  },
  {
   "cell_type": "markdown",
   "metadata": {},
   "source": [
    "From the t statistic, we can see that we can't reject the hyposithes that the coefficients for x1 and x2 are 0. Only intersection is significant from zero. This result makes sense."
   ]
  },
  {
   "cell_type": "code",
   "execution_count": 4,
   "metadata": {
    "collapsed": false
   },
   "outputs": [
    {
     "data": {
      "text/plain": [
       "               x1       x2 \n",
       "3.142965 1.083529 1.130301 "
      ]
     },
     "execution_count": 4,
     "metadata": {},
     "output_type": "execute_result"
    }
   ],
   "source": [
    "#1.3\n",
    "library(MASS)\n",
    "lm.ridge(y~x1 + x2,lambda=1)"
   ]
  },
  {
   "cell_type": "code",
   "execution_count": 5,
   "metadata": {
    "collapsed": false
   },
   "outputs": [
    {
     "data": {
      "text/plain": [
       "               x1       x2 \n",
       "3.139488 1.068568 1.092538 "
      ]
     },
     "execution_count": 5,
     "metadata": {},
     "output_type": "execute_result"
    }
   ],
   "source": [
    "lm.ridge(y~x1 + x2,lambda=2)"
   ]
  },
  {
   "cell_type": "code",
   "execution_count": 6,
   "metadata": {
    "collapsed": false
   },
   "outputs": [
    {
     "data": {
      "text/plain": [
       "                 x1        x2 \n",
       "3.1171817 0.9048841 0.9104296 "
      ]
     },
     "execution_count": 6,
     "metadata": {},
     "output_type": "execute_result"
    }
   ],
   "source": [
    "lm.ridge(y~x1 + x2,lambda=10)"
   ]
  },
  {
   "cell_type": "code",
   "execution_count": null,
   "metadata": {
    "collapsed": true
   },
   "outputs": [],
   "source": []
  },
  {
   "cell_type": "markdown",
   "metadata": {},
   "source": [
    "This parameter estimation is reasonable"
   ]
  },
  {
   "cell_type": "markdown",
   "metadata": {},
   "source": [
    "1.4\n",
    "Consider the characteristic polynomial of $A$, it gives the eigenvalue $\\lambda$ of $A$ by $det(A'A - \\lambda I) = 0$. Since $A$ is in finite dimension, so the numbers of eigenvalues of $A$ is finite. Suppose $\\lambda$ is the non-zero eigenvalue of $A$ with smallest absolute value, for any $\\delta$ such that $0< \\delta < |\\lambda|$, $det(A'A - \\delta I) \\neq 0$, which means $(A'A + \\delta I)^{-1}$ exists. So $\\lim_{\\delta\\rightarrow 0}(A'A + \\delta I)^{-1}A'$ exists. Similarly, $\\lim_{\\delta\\rightarrow 0}A'(AA' + \\delta I)^{-1}$ exists.\n",
    "\n",
    "\n",
    "we start from\n",
    "$$\n",
    "(A'A + \\delta I)A' = A'(AA' + \\delta I)\n",
    "$$\n",
    ", with the existance of $(A'A + \\delta I)^{-1}$ and $(AA' + \\delta I)^{-1}$, we can get \n",
    "$$\n",
    "(A'A + \\delta I)^{-1}A' = A'(AA' + \\delta I)^{-1}\n",
    "$$\n",
    "so\n",
    "$$\n",
    "\\lim_{\\delta\\rightarrow 0}(A'A + \\delta I)^{-1}A' = \\lim_{\\delta\\rightarrow 0}A'(AA' + \\delta I)^{-1}\n",
    "$$"
   ]
  },
  {
   "cell_type": "code",
   "execution_count": 38,
   "metadata": {
    "collapsed": false
   },
   "outputs": [],
   "source": [
    "#1.5\n",
    "x3 = cbind(1, x)\n",
    "xp = ginv(x3)#pseudoinverse"
   ]
  },
  {
   "cell_type": "code",
   "execution_count": 39,
   "metadata": {
    "collapsed": false
   },
   "outputs": [
    {
     "data": {
      "text/html": [
       "<table>\n",
       "<tbody>\n",
       "\t<tr><td>3.300134</td></tr>\n",
       "\t<tr><td>-19.0423</td></tr>\n",
       "\t<tr><td>21.33333</td></tr>\n",
       "</tbody>\n",
       "</table>\n"
      ],
      "text/latex": [
       "\\begin{tabular}{l}\n",
       "\t 3.300134\\\\\n",
       "\t -19.0423\\\\\n",
       "\t 21.33333\\\\\n",
       "\\end{tabular}\n"
      ],
      "text/markdown": [
       "1. 3.30013420534807\n",
       "2. -19.0423002508234\n",
       "3. 21.3333303190532\n",
       "\n",
       "\n"
      ],
      "text/plain": [
       "           [,1]\n",
       "[1,]   3.300134\n",
       "[2,] -19.042300\n",
       "[3,]  21.333330"
      ]
     },
     "execution_count": 39,
     "metadata": {},
     "output_type": "execute_result"
    }
   ],
   "source": [
    "#coefficients\n",
    "xp %*%y"
   ]
  },
  {
   "cell_type": "code",
   "execution_count": 40,
   "metadata": {
    "collapsed": false
   },
   "outputs": [
    {
     "data": {
      "text/plain": [
       "                   x1         x2 \n",
       "  3.300134 -19.042300  21.333330 "
      ]
     },
     "execution_count": 40,
     "metadata": {},
     "output_type": "execute_result"
    }
   ],
   "source": [
    "#the above directly computed coefficients is the same as the ones given by the rigid regression below\n",
    "library(MASS)\n",
    "lm.ridge(y~x1 + x2,lambda=0)"
   ]
  },
  {
   "cell_type": "markdown",
   "metadata": {},
   "source": [
    "1.6\n",
    "The target function is given by\n",
    "$$\n",
    "\\min (x^TQx)\n",
    "$$\n",
    "So the Lagrangian is\n",
    "$$\n",
    "L(x, h) = x^TQx + h^T(Ax-b),\n",
    "$$\n",
    "(there is no $\\lambda$ term involved.)\n",
    "To get the minimum of this function, we consider that\n",
    "the first order derivative is\n",
    "$$\n",
    "\\Delta L(x, h) = 2Qx + A^Th,\n",
    "$$\n",
    "When \n",
    "$$\n",
    "x = -0.5Q^{-1}A^Th\n",
    "$$\n",
    "(Since $Q$ is invertible)\n",
    "\\begin{eqnarray}\n",
    "G(h) = inf(L(x, h)) &=& (-0.5Q^{-1}A^Th)^T Q (-0.5Q^{-1}A^Th) + h^T(A  (-0.5Q^{-1}A^Th)  -b)\\\\\n",
    "&=& -0.25 h^TAQ^{-1}A^Th - h^Tb\n",
    "\\end{eqnarray}\n",
    "We know in this case, strong duality holds since there is no inequality in the constraints, so if we get the optimum of this dual problem, we get the optimum of the primal problem.\n",
    "To find the optimum of $G(h)$, we take the first order derivative again,\n",
    "$$\n",
    "\\Delta G(h) = -0.5 AQ^{-1}A^Th - b\n",
    "$$\n",
    "The maximum will get at \n",
    "$$\n",
    "h = -2(AQ^{-1}A^T)^{-1}b\n",
    "$$\n",
    "So\n",
    "\\begin{eqnarray}\n",
    "\\max G(h) = G( -2(AQ^{-1}A^T)^{-1}b ) &=& -0.25 (-2(AQ^{-1}A^T)^{-1}b )^TAQ^{-1}A^T (-2(AQ^{-1}A^T)^{-1}b)  - (-2(AQ^{-1}A^T)^{-1}b )^Tb \\\\ &=& -((AQ^{-1}A^T)^{-1}b)^Tb + 2(AQ^{-1}A^T)^{-1}b )^Tb\\\\\n",
    "&=& (AQ^{-1}A^T)^{-1}b )^Tb\\\\\n",
    "&=& b^T (AQ^{-1}A^T)^{-1} b\n",
    "\\end{eqnarray}\n",
    "In this case\n",
    "$$\n",
    "x^TQx = b^T (AQ^{-1}A^T)^{-1} b\n",
    "$$\n",
    "In terms of pseudo inverse, we can see that\n",
    "$$\n",
    "x = \\lim_{\\lambda \\rightarrow 0}(A'A + \\lambda I)^{-1}A'b\n",
    "$$\n",
    "$$\n",
    "x^TQx = \\lim_{\\lambda \\rightarrow 0} b' ((A'A + \\lambda I)^{-1})'Q(A'A + \\lambda I)^{-1}A'b\n",
    "$$"
   ]
  },
  {
   "cell_type": "markdown",
   "metadata": {},
   "source": [
    "1.7\n",
    "By definition, the convex conjugate is defined as\n",
    "$$\n",
    "f^*(y) =\\sup_{x \\in D}\\,(y^Tx - f(x))\n",
    "$$\n",
    "where $D$ is the domain of $f$.\n",
    "To see $f^*(y)$ is convex, we consider\n",
    "\\begin{eqnarray}\n",
    "f^*(\\theta y_1 + (1-\\theta) y_2) \n",
    "&=& \\sup_{x \\in D}\\, ((\\theta y_1 + (1-\\theta) y_2)^Tx - f(x))\\\\\n",
    "&=& \\sup_{x \\in D}\\, (\\theta y_1^Tx + (1-\\theta) y_2^Tx - f(x))\\\\\n",
    "&=& \\sup_{x \\in D}\\, (\\theta y_1^Tx - \\theta f(x) + (1-\\theta) y_2^Tx - (1-\\theta)f(x)) \\\\\n",
    "&\\leq & \\sup_{x \\in D}\\,(\\theta y_1^Tx - \\theta f(x)) + \\sup_{x \\in D} ((1-\\theta) y_2^Tx - (1-\\theta)f(x))) \\\\\n",
    "&=& \\theta \\sup_{x \\in D} (y_1^Tx - f(x)) + (1-\\theta) \\sup_{x \\in D} (y_2^Tx - f(x)) \\\\\n",
    "&=& \\theta f^*(y_1) + (1-\\theta)f^*(y_2)\n",
    "\\end{eqnarray}\n",
    "which means $f^*(y)$ is convex."
   ]
  }
 ],
 "metadata": {
  "kernelspec": {
   "display_name": "R",
   "language": "R",
   "name": "ir"
  },
  "language_info": {
   "codemirror_mode": "r",
   "file_extension": ".r",
   "mimetype": "text/x-r-source",
   "name": "R",
   "pygments_lexer": "r",
   "version": "3.2.2"
  }
 },
 "nbformat": 4,
 "nbformat_minor": 0
}
