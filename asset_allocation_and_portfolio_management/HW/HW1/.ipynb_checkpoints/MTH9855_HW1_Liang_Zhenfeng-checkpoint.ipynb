{
 "cells": [
  {
   "cell_type": "markdown",
   "metadata": {},
   "source": [
    "## Zhenfeng Liang"
   ]
  },
  {
   "cell_type": "code",
   "execution_count": 6,
   "metadata": {
    "collapsed": false
   },
   "outputs": [
    {
     "data": {
      "text/html": [
       "<dl class=dl-horizontal>\n",
       "\t<dt>(Intercept)</dt>\n",
       "\t\t<dd>3.30013420534807</dd>\n",
       "\t<dt>x1</dt>\n",
       "\t\t<dd>-19.0423002508235</dd>\n",
       "\t<dt>x2</dt>\n",
       "\t\t<dd>21.3333303190533</dd>\n",
       "</dl>\n"
      ],
      "text/latex": [
       "\\begin{description*}\n",
       "\\item[(Intercept)] 3.30013420534807\n",
       "\\item[x1] -19.0423002508235\n",
       "\\item[x2] 21.3333303190533\n",
       "\\end{description*}\n"
      ],
      "text/markdown": [
       "(Intercept)\n",
       ":   3.30013420534807x1\n",
       ":   -19.0423002508235x2\n",
       ":   21.3333303190533\n",
       "\n"
      ],
      "text/plain": [
       "(Intercept)          x1          x2 \n",
       "   3.300134  -19.042300   21.333330 "
      ]
     },
     "execution_count": 6,
     "metadata": {},
     "output_type": "execute_result"
    }
   ],
   "source": [
    "set.seed(10)\n",
    "N <- 20;\n",
    "x1 <- rnorm(N);\n",
    "x2 <- rnorm(N, mean = x1, sd = .01);\n",
    "y <- rnorm(N, mean = 3 + x1 + x2)\n",
    "lm(y ~ x1 + x2)$coef"
   ]
  },
  {
   "cell_type": "markdown",
   "metadata": {},
   "source": [
    "### Problem 1.1\n",
    "\n",
    "We can see the numbers are not very reasonable. We are expecting the intercept is around 3, while the other two coefficients are around 1. In order to see what it will look like of $X'X$, we run the below code snippet. "
   ]
  },
  {
   "cell_type": "code",
   "execution_count": 7,
   "metadata": {
    "collapsed": false
   },
   "outputs": [
    {
     "data": {
      "text/html": [
       "<table>\n",
       "<thead><tr><th></th><th scope=col>x1</th><th scope=col>x2</th></tr></thead>\n",
       "<tbody>\n",
       "\t<tr><th scope=row>x1</th><td>12.23053</td><td>12.22581</td></tr>\n",
       "\t<tr><th scope=row>x2</th><td>12.22581</td><td>12.22362</td></tr>\n",
       "</tbody>\n",
       "</table>\n"
      ],
      "text/latex": [
       "\\begin{tabular}{r|ll}\n",
       "  & x1 & x2\\\\\n",
       "\\hline\n",
       "\tx1 & 12.23053 & 12.22581\\\\\n",
       "\tx2 & 12.22581 & 12.22362\\\\\n",
       "\\end{tabular}\n"
      ],
      "text/markdown": [
       "1. 12.2305273371777\n",
       "2. 12.2258110182552\n",
       "3. 12.2258110182552\n",
       "4. 12.2236207474879\n",
       "\n",
       "\n"
      ],
      "text/plain": [
       "         x1       x2\n",
       "x1 12.23053 12.22581\n",
       "x2 12.22581 12.22362"
      ]
     },
     "execution_count": 7,
     "metadata": {},
     "output_type": "execute_result"
    }
   ],
   "source": [
    "x <- cbind(x1, x2)\n",
    "t(x) %*% x"
   ]
  },
  {
   "cell_type": "markdown",
   "metadata": {},
   "source": [
    "As we can see above, the matrix product is almost not invertible. The reason is when we generate $x_2$, $x_2$ is dependent on $x_1$."
   ]
  },
  {
   "cell_type": "markdown",
   "metadata": {},
   "source": [
    "### Problem 1.2"
   ]
  },
  {
   "cell_type": "code",
   "execution_count": 8,
   "metadata": {
    "collapsed": false
   },
   "outputs": [
    {
     "data": {
      "text/plain": [
       "\n",
       "Call:\n",
       "lm(formula = y ~ x1 + x2)\n",
       "\n",
       "Residuals:\n",
       "    Min      1Q  Median      3Q     Max \n",
       "-1.1494 -0.6055 -0.1677  0.6734  1.5127 \n",
       "\n",
       "Coefficients:\n",
       "            Estimate Std. Error t value Pr(>|t|)    \n",
       "(Intercept)   3.3001     0.2613  12.629 4.59e-10 ***\n",
       "x1          -19.0423    23.1646  -0.822    0.422    \n",
       "x2           21.3333    23.1897   0.920    0.370    \n",
       "---\n",
       "Signif. codes:  0 ‘***’ 0.001 ‘**’ 0.01 ‘*’ 0.05 ‘.’ 0.1 ‘ ’ 1\n",
       "\n",
       "Residual standard error: 0.8586 on 17 degrees of freedom\n",
       "Multiple R-squared:  0.8343,\tAdjusted R-squared:  0.8148 \n",
       "F-statistic: 42.79 on 2 and 17 DF,  p-value: 2.315e-07\n"
      ]
     },
     "execution_count": 8,
     "metadata": {},
     "output_type": "execute_result"
    }
   ],
   "source": [
    "summary(lm(y ~ x1 + x2))"
   ]
  },
  {
   "cell_type": "markdown",
   "metadata": {},
   "source": [
    "Let's look at the p-value. We can see intercept has a very small p-value which means we can significantly reject the null hyposithes. It is basilly saying that the intercept estimate is significantly different than zero. It makes sense from the number, we indeeed get the estimate coeff very similar to the original one. While the other two p-value is not that significantly different than zero which means that we can't trust this model coeffs estimates."
   ]
  },
  {
   "cell_type": "markdown",
   "metadata": {},
   "source": [
    "### Problem 1.3"
   ]
  },
  {
   "cell_type": "code",
   "execution_count": 9,
   "metadata": {
    "collapsed": true
   },
   "outputs": [],
   "source": [
    "library(MASS)"
   ]
  },
  {
   "cell_type": "code",
   "execution_count": 15,
   "metadata": {
    "collapsed": false
   },
   "outputs": [
    {
     "data": {
      "text/plain": [
       "               x1       x2 \n",
       "3.142965 1.083529 1.130301 "
      ]
     },
     "execution_count": 15,
     "metadata": {},
     "output_type": "execute_result"
    }
   ],
   "source": [
    "lm.ridge(y~x1 + x2,lambda=1)"
   ]
  },
  {
   "cell_type": "code",
   "execution_count": 16,
   "metadata": {
    "collapsed": false
   },
   "outputs": [
    {
     "data": {
      "text/plain": [
       "               x1       x2 \n",
       "3.136227 1.047249 1.063594 "
      ]
     },
     "execution_count": 16,
     "metadata": {},
     "output_type": "execute_result"
    }
   ],
   "source": [
    "lm.ridge(y~x1 + x2,lambda=3)"
   ]
  },
  {
   "cell_type": "code",
   "execution_count": 17,
   "metadata": {
    "collapsed": false
   },
   "outputs": [
    {
     "data": {
      "text/plain": [
       "                 x1        x2 \n",
       "3.1246408 0.9618128 0.9693758 "
      ]
     },
     "execution_count": 17,
     "metadata": {},
     "output_type": "execute_result"
    }
   ],
   "source": [
    "lm.ridge(y~x1 + x2,lambda=7)"
   ]
  },
  {
   "cell_type": "code",
   "execution_count": 18,
   "metadata": {
    "collapsed": false
   },
   "outputs": [
    {
     "data": {
      "text/plain": [
       "                 x1        x2 \n",
       "3.1171817 0.9048841 0.9104296 "
      ]
     },
     "execution_count": 18,
     "metadata": {},
     "output_type": "execute_result"
    }
   ],
   "source": [
    "lm.ridge(y~x1 + x2,lambda=10)"
   ]
  },
  {
   "cell_type": "markdown",
   "metadata": {},
   "source": [
    "### Problem 1.4"
   ]
  },
  {
   "cell_type": "markdown",
   "metadata": {},
   "source": [
    "Consider the characteristic polynomial of $A$, it gives the eigenvalue $\\lambda$ of $A$ by \n",
    "$$\n",
    "det(A'A - \\lambda I) = 0\n",
    "$$\n",
    "\n",
    "So, we can find some $\\delta < \\lambda$, such that,\n",
    "$$\n",
    "det(A'A - \\delta I) \\neq 0\n",
    "$$\n",
    "\n",
    "which means, $(A'A - \\delta I)^{-1}$ exists, So $\\lim_{\\delta\\rightarrow 0}(A'A + \\delta I)^{-1}A'$ exists. Similarly, $\\lim_{\\delta\\rightarrow 0}A'(AA' + \\delta I)^{-1}$ exists.\n",
    "\n",
    "We can see readily,\n",
    "\n",
    "$$(A'A + \\delta I)A' = A'(AA' + \\delta I)$$\n",
    "\n",
    "Let $B = A'A + \\delta I$ and $C = AA' + \\delta I$, so it becomes,\n",
    "\n",
    "$$\n",
    "B\\,A' = A'\\,C\n",
    "$$ \n",
    "\n",
    "Multiply by an identity matrix to both sides, we have\n",
    "$$\n",
    "B\\,A'\\,C^{-1}\\,C = B\\,B^{-1}\\,A'\\,C \n",
    "$$\n",
    "\n",
    "When $\\delta \\rightarrow 0$, both $B$ and $C$ are nonsingualr, we have,\n",
    "\n",
    "$$\n",
    "A'\\,C^{-1} = B^{-1}\\,A' \n",
    "$$\n",
    "\n",
    "Therefore,\n",
    "$$\n",
    "\\lim_{\\delta \\to 0}(A'A + \\delta I)^{-1}A' = \\lim_{\\delta \\to 0}A'(AA' + \\delta I)^{-1}\n",
    "$$"
   ]
  },
  {
   "cell_type": "markdown",
   "metadata": {},
   "source": [
    "### Problem 1.5"
   ]
  },
  {
   "cell_type": "code",
   "execution_count": 19,
   "metadata": {
    "collapsed": false
   },
   "outputs": [
    {
     "data": {
      "text/html": [
       "<table>\n",
       "<tbody>\n",
       "\t<tr><td>3.300134</td></tr>\n",
       "\t<tr><td>-19.0423</td></tr>\n",
       "\t<tr><td>21.33333</td></tr>\n",
       "</tbody>\n",
       "</table>\n"
      ],
      "text/latex": [
       "\\begin{tabular}{l}\n",
       "\t 3.300134\\\\\n",
       "\t -19.0423\\\\\n",
       "\t 21.33333\\\\\n",
       "\\end{tabular}\n"
      ],
      "text/markdown": [
       "1. 3.30013420534807\n",
       "2. -19.042300250824\n",
       "3. 21.3333303190538\n",
       "\n",
       "\n"
      ],
      "text/plain": [
       "           [,1]\n",
       "[1,]   3.300134\n",
       "[2,] -19.042300\n",
       "[3,]  21.333330"
      ]
     },
     "execution_count": 19,
     "metadata": {},
     "output_type": "execute_result"
    }
   ],
   "source": [
    "X = cbind(1, x)\n",
    "\n",
    "# pseudoinverse\n",
    "xp = ginv(X)\n",
    "\n",
    "#coefficients\n",
    "xp %*%y"
   ]
  },
  {
   "cell_type": "code",
   "execution_count": 20,
   "metadata": {
    "collapsed": false
   },
   "outputs": [
    {
     "data": {
      "text/plain": [
       "                   x1         x2 \n",
       "  3.300134 -19.042300  21.333330 "
      ]
     },
     "execution_count": 20,
     "metadata": {},
     "output_type": "execute_result"
    }
   ],
   "source": [
    "lm.ridge(y~x1 + x2,lambda=0)"
   ]
  },
  {
   "cell_type": "markdown",
   "metadata": {},
   "source": [
    "So, we can see that when the penality parameter goes to zero, the rige regression result is the same as the pseudoinverse product."
   ]
  },
  {
   "cell_type": "markdown",
   "metadata": {},
   "source": [
    "### Problem 1.6"
   ]
  },
  {
   "cell_type": "markdown",
   "metadata": {},
   "source": [
    "\n",
    "The Lagrangian is $L(x, v) = x^TQ\\,x + v^T (A\\,x - b)$\n",
    "\n",
    "So gradient is,\n",
    "\n",
    "$$\n",
    "\\nabla_x\\,L(x, v) = 2\\,Q\\,x + A^T\\,v = 0\n",
    "$$\n",
    "\n",
    "$$\n",
    "x^{*} = -\\frac12 Q^{-1}A^T\\,v \\quad\\text{(Since $Q$ is positive-definte, $Q$ is invertibale.)}\n",
    "$$\n",
    "\n",
    "Plug $x^{*}$ into the Lagrangian function. We have the dual function as follows,\n",
    "\n",
    "$$\n",
    "g(v) = -\\frac14v^TA\\,(Q^{-1})^TA^Tv - v^Tb\n",
    "$$\n",
    "\n",
    "Because there is not inequality constraint, $p^* = d^*$. Strong duality holds.\n",
    "\n",
    "We have the gradient of $g(v)$\n",
    "\n",
    "$$\n",
    "\\nabla_v\\,g(v) = -\\frac12 A\\,(Q^{-1})^TA^Tv - b = 0 \n",
    "$$\n",
    "\n",
    "We have,\n",
    "\n",
    "$$\n",
    "v^* = -2\\,(A\\,(Q^{-1})^TA^T)^{-1}b \n",
    "$$\n",
    "\n",
    "Therefore, we have,\n",
    "\n",
    "$$\n",
    "d^* = -\\frac12(v^*)^Tb = b^T(A\\,(Q^{-1})A^T)^{-1}b\n",
    "$$\n",
    "\n",
    "Because $p^* = d^*$, we have,\n",
    "\n",
    "$$\n",
    "x^TQ\\,x = b^T(A\\,(Q^{-1})A^T)^{-1}b\n",
    "$$\n",
    "\n",
    "In terms of pseudo inverse, we can see that\n",
    "$$\n",
    "x = \\lim_{\\delta \\rightarrow 0}(A'A + \\delta I)^{-1}A'b\n",
    "$$\n",
    "$$\n",
    "x^TQx = \\lim_{\\delta \\rightarrow 0} b' ((A'A + \\delta I)^{-1})'Q(A'A + \\delta I)^{-1}A'b\n",
    "$$"
   ]
  },
  {
   "cell_type": "markdown",
   "metadata": {},
   "source": [
    "### Problem 1.7"
   ]
  },
  {
   "cell_type": "markdown",
   "metadata": {},
   "source": [
    "By definition, \n",
    "$$\n",
    "f^*(y) =\\sup_{x \\in D}\\,(y^Tx - f(x))\n",
    "$$\n",
    "where $D$ is the domain of $f$.\n",
    "\n",
    "By definition of convexity, we expand the following term,\n",
    "\\begin{eqnarray}\n",
    "f^*(\\theta y_1 + (1-\\theta) y_2) \n",
    "&=& \\sup_{x \\in D}\\, ((\\theta y_1 + (1-\\theta) y_2)^Tx - f(x))\\\\\n",
    "&=& \\sup_{x \\in D}\\, (\\theta y_1^Tx - \\theta f(x) + (1-\\theta) y_2^Tx - (1-\\theta)f(x)) \\\\\n",
    "&\\leq & \\sup_{x \\in D}\\,(\\theta y_1^Tx - \\theta f(x)) + \\sup_{x \\in D} ((1-\\theta) y_2^Tx - (1-\\theta)f(x))) \\\\\n",
    "&=& \\theta \\sup_{x \\in D} (y_1^Tx - f(x)) + (1-\\theta) \\sup_{x \\in D} (y_2^Tx - f(x)) \\\\\n",
    "&=& \\theta f^*(y_1) + (1-\\theta)f^*(y_2)\n",
    "\\end{eqnarray}\n",
    "\n",
    "which is,\n",
    "\n",
    "$$\n",
    "f^*(\\theta y_1 + (1-\\theta) y_2) \\leq \\theta f^*(y_1) + (1-\\theta)f^*(y_2)\n",
    "$$\n",
    "\n",
    "$$\n",
    "Q.E.D\n",
    "$$"
   ]
  }
 ],
 "metadata": {
  "kernelspec": {
   "display_name": "R",
   "language": "R",
   "name": "ir"
  },
  "language_info": {
   "codemirror_mode": "r",
   "file_extension": ".r",
   "mimetype": "text/x-r-source",
   "name": "R",
   "pygments_lexer": "r",
   "version": "3.2.2"
  }
 },
 "nbformat": 4,
 "nbformat_minor": 0
}
