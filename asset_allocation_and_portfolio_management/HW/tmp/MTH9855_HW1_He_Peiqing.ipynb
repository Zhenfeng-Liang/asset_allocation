{
 "cells": [
  {
   "cell_type": "markdown",
   "metadata": {},
   "source": [
    "#Peiqing He"
   ]
  },
  {
   "cell_type": "code",
   "execution_count": 1,
   "metadata": {
    "collapsed": true
   },
   "outputs": [],
   "source": [
    "library(Matrix)"
   ]
  },
  {
   "cell_type": "code",
   "execution_count": 2,
   "metadata": {
    "collapsed": false
   },
   "outputs": [
    {
     "data": {
      "text/html": [
       "<dl class=dl-horizontal>\n",
       "\t<dt>(Intercept)</dt>\n",
       "\t\t<dd>3.30013420534807</dd>\n",
       "\t<dt>x1</dt>\n",
       "\t\t<dd>-19.0423002508231</dd>\n",
       "\t<dt>x2</dt>\n",
       "\t\t<dd>21.333330319053</dd>\n",
       "</dl>\n"
      ],
      "text/latex": [
       "\\begin{description*}\n",
       "\\item[(Intercept)] 3.30013420534807\n",
       "\\item[x1] -19.0423002508231\n",
       "\\item[x2] 21.333330319053\n",
       "\\end{description*}\n"
      ],
      "text/markdown": [
       "(Intercept)\n",
       ":   3.30013420534807x1\n",
       ":   -19.0423002508231x2\n",
       ":   21.333330319053\n",
       "\n"
      ],
      "text/plain": [
       "(Intercept)          x1          x2 \n",
       "   3.300134  -19.042300   21.333330 "
      ]
     },
     "execution_count": 2,
     "metadata": {},
     "output_type": "execute_result"
    }
   ],
   "source": [
    "set.seed(10)\n",
    "N <- 20;\n",
    "x1 <- rnorm(N);\n",
    "x2 <- rnorm(N, mean = x1, sd = .01);\n",
    "y <- rnorm(N, mean = 3 + x1 + x2)\n",
    "lm(y ~ x1 + x2)$coef"
   ]
  },
  {
   "cell_type": "markdown",
   "metadata": {},
   "source": [
    "###Problem 1.1.\n",
    "\n",
    "Ideally, the value of Intercept should be close to 3, and the coefficients for both x1 and x2 should be close to 1. However, because the matrix $X_t$ is approximately rank-deficient, the linear regression returns some erroneous coefficients. The rank-deficiency arises since x2 is approximately dependent on x1. Because of the rank-deficiency, there is also a deficiency in the linear regesssion. As a result, we should not use these coefficients to make predictions out of sample.\n",
    "\n",
    "From these coefficients, we can infer that one column of matrix $X'X$ is approximately dependent on the other. In addition, $X'X$ is approximately rank-defficient."
   ]
  },
  {
   "cell_type": "markdown",
   "metadata": {},
   "source": [
    "###Problem 1.2."
   ]
  },
  {
   "cell_type": "code",
   "execution_count": 3,
   "metadata": {
    "collapsed": false
   },
   "outputs": [
    {
     "data": {
      "text/plain": [
       "\n",
       "Call:\n",
       "lm(formula = y ~ x1 + x2)\n",
       "\n",
       "Residuals:\n",
       "    Min      1Q  Median      3Q     Max \n",
       "-1.1494 -0.6055 -0.1677  0.6734  1.5127 \n",
       "\n",
       "Coefficients:\n",
       "            Estimate Std. Error t value Pr(>|t|)    \n",
       "(Intercept)   3.3001     0.2613  12.629 4.59e-10 ***\n",
       "x1          -19.0423    23.1646  -0.822    0.422    \n",
       "x2           21.3333    23.1897   0.920    0.370    \n",
       "---\n",
       "Signif. codes:  0 '***' 0.001 '**' 0.01 '*' 0.05 '.' 0.1 ' ' 1\n",
       "\n",
       "Residual standard error: 0.8586 on 17 degrees of freedom\n",
       "Multiple R-squared:  0.8343,\tAdjusted R-squared:  0.8148 \n",
       "F-statistic: 42.79 on 2 and 17 DF,  p-value: 2.315e-07\n"
      ]
     },
     "execution_count": 3,
     "metadata": {},
     "output_type": "execute_result"
    }
   ],
   "source": [
    "summary(lm(y ~ x1 + x2))"
   ]
  },
  {
   "cell_type": "markdown",
   "metadata": {
    "collapsed": true
   },
   "source": [
    "We can see that only the Intercept is significantly different from zero since it has a very small p-value; on the other hand, the p-values for the coefficients of x1 and x1 are large. It makes sense since Intercept corresponds to the coefficient of the constant in our model. Apparently, this constant is independent from both x1 and x2 so its coefficient should be a lot closer to its true value in the model."
   ]
  },
  {
   "cell_type": "code",
   "execution_count": 4,
   "metadata": {
    "collapsed": true
   },
   "outputs": [],
   "source": [
    "library(MASS)"
   ]
  },
  {
   "cell_type": "markdown",
   "metadata": {},
   "source": [
    "###Problem 1.3."
   ]
  },
  {
   "cell_type": "code",
   "execution_count": 5,
   "metadata": {
    "collapsed": false
   },
   "outputs": [
    {
     "data": {
      "text/plain": [
       "               x1       x2 \n",
       "3.142965 1.083529 1.130301 "
      ]
     },
     "execution_count": 5,
     "metadata": {},
     "output_type": "execute_result"
    }
   ],
   "source": [
    "#When lambda = 1\n",
    "lm.ridge(y~x1+x2,lambda=1)"
   ]
  },
  {
   "cell_type": "code",
   "execution_count": 6,
   "metadata": {
    "collapsed": false
   },
   "outputs": [
    {
     "data": {
      "text/plain": [
       "                 x1        x2 \n",
       "3.1171817 0.9048841 0.9104296 "
      ]
     },
     "execution_count": 6,
     "metadata": {},
     "output_type": "execute_result"
    }
   ],
   "source": [
    "#When lambda = 10\n",
    "lm.ridge(y~x1+x2,lambda=10)"
   ]
  },
  {
   "cell_type": "code",
   "execution_count": 7,
   "metadata": {
    "collapsed": false
   },
   "outputs": [
    {
     "data": {
      "text/plain": [
       "               x1       x2 \n",
       "3.130171 1.003404 1.013619 "
      ]
     },
     "execution_count": 7,
     "metadata": {},
     "output_type": "execute_result"
    }
   ],
   "source": [
    "#When lambda = 5\n",
    "lm.ridge(y~x1+x2,lambda=5)"
   ]
  },
  {
   "cell_type": "markdown",
   "metadata": {},
   "source": [
    "###Problem 1.4."
   ]
  },
  {
   "cell_type": "markdown",
   "metadata": {
    "collapsed": true
   },
   "source": [
    "Let consider the matrix $A'A + \\delta I$. $det(A'A + \\delta I)\\,\\neq\\,0$ expect when $-\\delta$ is equal to the eignevalues of $A'A$ since the characteristic polynomial $det(A'A - x I) =0$ only when $x$ is equal to the eignevalues of $A'A$.\n",
    "\n",
    "Therefore, suppose there is a $\\delta_0$ whose magnitude is less than the magnitude of the smallest nonzero eignevalues of $A'A$. we will have,\n",
    "\n",
    "$$det(A'A + \\delta_0 I)\\,\\neq\\,0\\quad \\text{as } 0 < |\\delta_0| < |\\delta|$$\n",
    "\n",
    "Since we can always find such $\\delta_0$, by the definition of limit, we have\n",
    "\n",
    "$$\\lim_{\\delta \\to 0}det(A'A + \\delta I)\\,\\neq\\,0$$\n",
    "\n",
    "Consequently, $\\lim_{\\delta \\to 0}A'A + \\delta I$ is nonsigular so $\\lim_{\\delta \\to 0}(A'A + \\delta I)^{-1}$ exists. Similarly, we can show that $\\lim_{\\delta \\to 0}(AA' + \\delta I)^{-1}$ exists using the same logic.\n",
    "\n",
    "To show $\\lim_{\\delta \\to 0}(A'A + \\delta I)^{-1}A' = \\lim_{\\delta \\to 0}A'(AA' + \\delta I)^{-1}$, first we can see that\n",
    "\n",
    "$$(A'A + \\delta I)A' = A'(AA' + \\delta I)$$\n",
    "\n",
    "Let $B = A'A + \\delta I$ and $C = AA' + \\delta I$, from the previous line, we have\n",
    "\n",
    "$$B\\,A' = A'\\,C \\Rightarrow B\\,A'\\,C^{-1}\\,C = B\\,B^{-1}\\,A'\\,C$$\n",
    "\n",
    "Since both $B$ and $C$ are nonsingualr, we conclude that\n",
    "\n",
    "$$A'\\,C^{-1} = B^{-1}\\,A' \\Rightarrow \\lim_{\\delta \\to 0}(A'A + \\delta I)^{-1}A' = \\lim_{\\delta \\to 0}A'(AA' + \\delta I)^{-1}$$"
   ]
  },
  {
   "cell_type": "markdown",
   "metadata": {},
   "source": [
    "###Problem 1.5."
   ]
  },
  {
   "cell_type": "code",
   "execution_count": 17,
   "metadata": {
    "collapsed": false
   },
   "outputs": [
    {
     "data": {
      "text/html": [
       "<table>\n",
       "<tbody>\n",
       "\t<tr><td> 0.059705051</td><td>-0.030889601</td><td> 0.039615367</td><td>-0.031902968</td><td> 0.025655236</td><td> 0.076274774</td><td> 0.040756938</td><td> 0.040050427</td><td> 0.068574020</td><td> 0.075625906</td><td> 0.002081685</td><td> 0.096847500</td><td> 0.143757292</td><td> 0.114075676</td><td> 0.024333571</td><td> 0.013869692</td><td> 0.101948291</td><td>-0.007329221</td><td> 0.085064297</td><td> 0.061886068</td></tr>\n",
       "\t<tr><td> -1.2143632</td><td> 10.5162999</td><td>  0.3980865</td><td> 10.3441466</td><td>  3.4534373</td><td> -3.1144043</td><td>  0.3684112</td><td>  1.0818467</td><td> -3.5870577</td><td> -3.5044455</td><td>  7.1381614</td><td> -5.5430899</td><td>-12.4252720</td><td> -7.6319491</td><td>  3.9552635</td><td>  4.8480473</td><td> -7.4696661</td><td>  7.4187562</td><td> -3.8731391</td><td> -1.1590696</td></tr>\n",
       "\t<tr><td>  1.222277</td><td>-10.538486</td><td> -0.506484</td><td>-10.400305</td><td> -3.428137</td><td>  3.155042</td><td> -0.463331</td><td> -1.108045</td><td>  3.462180</td><td>  3.492308</td><td> -7.050590</td><td>  5.616637</td><td> 12.424815</td><td>  7.726957</td><td> -3.893738</td><td> -4.841236</td><td>  7.404534</td><td> -7.438306</td><td>  3.958759</td><td>  1.205150</td></tr>\n",
       "</tbody>\n",
       "</table>\n"
      ],
      "text/latex": [
       "\\begin{tabular}{llllllllllllllllllll}\n",
       "\t  0.059705051 & -0.030889601 &  0.039615367 & -0.031902968 &  0.025655236 &  0.076274774 &  0.040756938 &  0.040050427 &  0.068574020 &  0.075625906 &  0.002081685 &  0.096847500 &  0.143757292 &  0.114075676 &  0.024333571 &  0.013869692 &  0.101948291 & -0.007329221 &  0.085064297 &  0.061886068\\\\\n",
       "\t  -1.2143632 &  10.5162999 &   0.3980865 &  10.3441466 &   3.4534373 &  -3.1144043 &   0.3684112 &   1.0818467 &  -3.5870577 &  -3.5044455 &   7.1381614 &  -5.5430899 & -12.4252720 &  -7.6319491 &   3.9552635 &   4.8480473 &  -7.4696661 &   7.4187562 &  -3.8731391 &  -1.1590696\\\\\n",
       "\t   1.222277 & -10.538486 &  -0.506484 & -10.400305 &  -3.428137 &   3.155042 &  -0.463331 &  -1.108045 &   3.462180 &   3.492308 &  -7.050590 &   5.616637 &  12.424815 &   7.726957 &  -3.893738 &  -4.841236 &   7.404534 &  -7.438306 &   3.958759 &   1.205150\\\\\n",
       "\\end{tabular}\n"
      ],
      "text/markdown": [
       "1. 0.0597050508711373\n",
       "2. -1.21436324419711\n",
       "3. 1.22227728905785\n",
       "4. -0.0308896009087519\n",
       "5. 10.5162999209047\n",
       "6. -10.5384863726408\n",
       "7. 0.0396153668088\n",
       "8. 0.398086469124611\n",
       "9. -0.506483987539678\n",
       "10. -0.0319029676222925\n",
       "11. 10.3441465789849\n",
       "12. -10.4003046076467\n",
       "13. 0.0256552364529119\n",
       "14. 3.45343726852993\n",
       "15. -3.42813692540638\n",
       "16. 0.0762747739077242\n",
       "17. -3.11440432367353\n",
       "18. 3.15504172079595\n",
       "19. 0.0407569384280585\n",
       "20. 0.368411187112883\n",
       "21. -0.463330959153574\n",
       "22. 0.0400504265181648\n",
       "23. 1.08184668231924\n",
       "24. -1.10804463080588\n",
       "25. 0.0685740197803046\n",
       "26. -3.58705773253807\n",
       "27. 3.4621796690363\n",
       "28. 0.0756259061458206\n",
       "29. -3.50444549269216\n",
       "30. 3.49230776599964\n",
       "31. 0.00208168544521494\n",
       "32. 7.13816142161445\n",
       "33. -7.05058981959792\n",
       "34. 0.0968474998649989\n",
       "35. -5.54308994335939\n",
       "36. 5.61663706752263\n",
       "37. 0.143757291574487\n",
       "38. -12.4252720223559\n",
       "39. 12.4248146490428\n",
       "40. 0.11407567575378\n",
       "41. -7.63194906291999\n",
       "42. 7.72695670779115\n",
       "43. 0.0243335712907311\n",
       "44. 3.95526348300109\n",
       "45. -3.89373829145729\n",
       "46. 0.0138696917570337\n",
       "47. 4.84804734899743\n",
       "48. -4.84123604477308\n",
       "49. 0.101948291129621\n",
       "50. -7.46966607568909\n",
       "51. 7.40453416056402\n",
       "52. -0.0073292214459959\n",
       "53. 7.41875622911422\n",
       "54. -7.43830607749672\n",
       "55. 0.0850642966547594\n",
       "56. -3.87313907178505\n",
       "57. 3.95875888038383\n",
       "58. 0.0618860675934917\n",
       "59. -1.15906962049321\n",
       "60. 1.20514980632394\n",
       "\n",
       "\n"
      ],
      "text/plain": [
       "            [,1]        [,2]        [,3]         [,4]        [,5]        [,6]\n",
       "[1,]  0.05970505  -0.0308896  0.03961537  -0.03190297  0.02565524  0.07627477\n",
       "[2,] -1.21436324  10.5162999  0.39808647  10.34414658  3.45343727 -3.11440432\n",
       "[3,]  1.22227729 -10.5384864 -0.50648399 -10.40030461 -3.42813693  3.15504172\n",
       "            [,7]        [,8]        [,9]       [,10]        [,11]      [,12]\n",
       "[1,]  0.04075694  0.04005043  0.06857402  0.07562591  0.002081685  0.0968475\n",
       "[2,]  0.36841119  1.08184668 -3.58705773 -3.50444549  7.138161422 -5.5430899\n",
       "[3,] -0.46333096 -1.10804463  3.46217967  3.49230777 -7.050589820  5.6166371\n",
       "           [,13]      [,14]       [,15]       [,16]      [,17]        [,18]\n",
       "[1,]   0.1437573  0.1140757  0.02433357  0.01386969  0.1019483 -0.007329221\n",
       "[2,] -12.4252720 -7.6319491  3.95526348  4.84804735 -7.4696661  7.418756229\n",
       "[3,]  12.4248146  7.7269567 -3.89373829 -4.84123604  7.4045342 -7.438306077\n",
       "          [,19]       [,20]\n",
       "[1,]  0.0850643  0.06188607\n",
       "[2,] -3.8731391 -1.15906962\n",
       "[3,]  3.9587589  1.20514981"
      ]
     },
     "execution_count": 17,
     "metadata": {},
     "output_type": "execute_result"
    }
   ],
   "source": [
    "# Create the matrix X\n",
    "X <- cbind(1, x1, x2)\n",
    "\n",
    "# Rename of the first column\n",
    "colnames(X)[1] <- \"Intercept\"\n",
    "\n",
    "# Compute the Moore-Penrose pseudoinverse\n",
    "X_plus <- ginv(X)\n",
    "\n",
    "X_plus"
   ]
  },
  {
   "cell_type": "code",
   "execution_count": 18,
   "metadata": {
    "collapsed": false
   },
   "outputs": [
    {
     "data": {
      "text/html": [
       "<table>\n",
       "<tbody>\n",
       "\t<tr><td>3.300134</td></tr>\n",
       "\t<tr><td>-19.0423</td></tr>\n",
       "\t<tr><td>21.33333</td></tr>\n",
       "</tbody>\n",
       "</table>\n"
      ],
      "text/latex": [
       "\\begin{tabular}{l}\n",
       "\t 3.300134\\\\\n",
       "\t -19.0423\\\\\n",
       "\t 21.33333\\\\\n",
       "\\end{tabular}\n"
      ],
      "text/markdown": [
       "1. 3.30013420534807\n",
       "2. -19.0423002508231\n",
       "3. 21.3333303190529\n",
       "\n",
       "\n"
      ],
      "text/plain": [
       "           [,1]\n",
       "[1,]   3.300134\n",
       "[2,] -19.042300\n",
       "[3,]  21.333330"
      ]
     },
     "execution_count": 18,
     "metadata": {},
     "output_type": "execute_result"
    }
   ],
   "source": [
    "# Compute X^+ * y\n",
    "X_plus %*% y"
   ]
  },
  {
   "cell_type": "code",
   "execution_count": 19,
   "metadata": {
    "collapsed": false
   },
   "outputs": [
    {
     "data": {
      "text/plain": [
       "                   x1         x2 \n",
       "  3.300134 -19.042300  21.333330 "
      ]
     },
     "execution_count": 19,
     "metadata": {},
     "output_type": "execute_result"
    }
   ],
   "source": [
    "#When lambda = 0\n",
    "lm.ridge(y~x1+x2,lambda=0)"
   ]
  },
  {
   "cell_type": "markdown",
   "metadata": {},
   "source": [
    "We can see that $X^+y$ equals the limit of the ridge regression coefficients as the ridge parameter tends to zero."
   ]
  },
  {
   "cell_type": "markdown",
   "metadata": {},
   "source": [
    "###Problem 1.6.\n",
    "\n",
    "The Lagrangian is $L(x, v) = x^TQ\\,x + v^T (A\\,x - b)$\n",
    "\n",
    "To find the Lagrangian dual function, we first find of gradient of $L(x, v)$\n",
    "\n",
    "$$\\nabla_x\\,L(x, v) = 2\\,Q\\,x + A^T\\,v = 0$$\n",
    "\n",
    "Since $Q$ is positive-definte, $Q$ is invertibale. Thus,\n",
    "\n",
    "$$x = -\\frac12 Q^{-1}A^T\\,v$$\n",
    "\n",
    "Then, the Lagrangian dual function is\n",
    "\n",
    "\\begin{eqnarray}\n",
    "g(v) &=& L(-\\frac12 Q^{-1}A^T\\,v, v) = \\frac14v^TA\\,(Q^{-1})^TA^Tv - \\frac12v^TA\\,(Q^{-1})^TA^Tv - v^Tb\\\\\n",
    "&=& -\\frac14v^TA\\,(Q^{-1})^TA^Tv - v^Tb\n",
    "\\end{eqnarray}\n",
    "\n",
    "Since there is no inequlity constraint in the convex optimizatiion problem, Slater’s condition is simply that the primal problem is feasible, so $p^* = d^*$. Therefore, strong duality holds.\n",
    "\n",
    "To solve the dual problem and to find $d^*$, we first find of gradient of $g(v)$\n",
    "\n",
    "$$\\nabla_v\\,g(v) = -\\frac12 A\\,(Q^{-1})^TA^Tv - b = 0 \\Rightarrow A\\,(Q^{-1})^TA^Tv = -2\\,b$$\n",
    "\n",
    "Assume $A$ is full-rank. Solve the linear system, we have\n",
    "\n",
    "$$v = -2\\,(A\\,(Q^{-1})^TA^T)^{-1}b$$\n",
    "\n",
    "To find $d^*$, we plug in the solution of the dual problem back into the dual problem, we have\n",
    "\n",
    "$$d^* = -\\frac12v^Tb = -\\frac12(-2\\,(A\\,(Q^{-1})^TA^T)^{-1}b)^Tb = b^T(A\\,(Q^{-1})A^T)^{-1}b$$\n",
    "\n",
    "Due to the strong duality, the solution of the primal problem must satisfy the following,\n",
    "\n",
    "$$<x;Qx> = d^* \\Rightarrow x^TQ\\,x = b^T(A\\,(Q^{-1})A^T)^{-1}b$$\n",
    "\n",
    "Since $Q^{\\frac12}$ exists, we have\n",
    "\n",
    "\\begin{eqnarray}\n",
    "(Q^{1/2}x)^T(Q^{1/2}x) = (Q^{-1/2} A^Tb)^T(Q^{-1/2} A^Tb) \\Rightarrow Q^{1/2}x = Q^{-1/2} A^Tb\n",
    "\\end{eqnarray}"
   ]
  },
  {
   "cell_type": "markdown",
   "metadata": {},
   "source": [
    "###Problem 1.7."
   ]
  },
  {
   "cell_type": "markdown",
   "metadata": {
    "collapsed": true
   },
   "source": [
    "Let $0 \\leq \\theta \\leq 1$\n",
    "\n",
    "First we also need to show the set $C^* = dom(f^*)$ is a convex set, ie, $y \\in C^*, z \\in C^* \\Rightarrow \\theta\\,y + (1 - \\theta)z \\in C^*$. By definition, the convex conjugate is\n",
    "\n",
    "$$f^*(y) =\\sup_{x \\in domf}(y^Tx - f(x))$$\n",
    "\n",
    "We can see that the part that is acting on $y \\in dom(f^*)$ is the transpose operation. Since the domain of transpose operation is a convex set, $y \\in dom(f^*)$ is a convex set.\n",
    "\n",
    "\\begin{eqnarray}\n",
    "f^*(\\theta\\,y + (1 - \\theta)z) &=& \\sup_{x \\in domf}((\\theta\\,y + (1 - \\theta)z)^Tx - f(x))\\\\\n",
    "&=& \\sup_{x \\in domf}(\\theta\\,y^Tx + (1 - \\theta)z^Tx - (\\theta\\,f(x) + (1 - \\theta)f(x)))\\\\\n",
    "&=& \\sup_{x \\in domf}(\\theta\\,(y^Tx - f(x)) + (1 - \\theta)(z^Tx - f(x)))\\\\\n",
    "&\\leq& \\theta(\\sup_{x \\in domf}(y^Tx - f(x))) + (1 - \\theta)(\\sup_{x \\in domf}(z^Tx - f(x)))\\\\\n",
    "&=& \\theta f^*(y) + (1 - \\theta)f^*(z)\n",
    "\\end{eqnarray}"
   ]
  },
  {
   "cell_type": "code",
   "execution_count": null,
   "metadata": {
    "collapsed": true
   },
   "outputs": [],
   "source": []
  }
 ],
 "metadata": {
  "kernelspec": {
   "display_name": "R",
   "language": "R",
   "name": "ir"
  },
  "language_info": {
   "codemirror_mode": "r",
   "file_extension": ".r",
   "mimetype": "text/x-r-source",
   "name": "R",
   "pygments_lexer": "r",
   "version": "3.2.2"
  }
 },
 "nbformat": 4,
 "nbformat_minor": 0
}
